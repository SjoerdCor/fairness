{
 "cells": [
  {
   "cell_type": "code",
   "execution_count": 1,
   "metadata": {},
   "outputs": [],
   "source": [
    "import pandas as pd\n",
    "import numpy as np\n",
    "import scipy.special\n",
    "import matplotlib.pyplot as plt\n",
    "import seaborn as sns\n",
    "\n",
    "import sklearn.model_selection\n",
    "import sklearn.metrics\n",
    "from sklearn.ensemble import RandomForestClassifier\n",
    "from sklearn.inspection import plot_partial_dependence\n",
    "from sklearn.pipeline import make_pipeline\n",
    "\n",
    "from aif360.sklearn.preprocessing import ReweighingMeta, Reweighing\n",
    "from aif360.sklearn.inprocessing import AdversarialDebiasing\n",
    "from aif360.sklearn.postprocessing import CalibratedEqualizedOdds, PostProcessingMeta\n",
    "\n",
    "import tensorflow.compat.v1 as tf\n",
    "tf.disable_eager_execution()\n",
    "tf.logging.set_verbosity(tf.logging.ERROR)\n",
    "\n",
    "from sklego.preprocessing import InformationFilter\n",
    "\n",
    "from fairness import fairestimator\n",
    "from fairness.blog import utils\n",
    "\n",
    "np.random.seed(42)"
   ]
  },
  {
   "cell_type": "markdown",
   "metadata": {},
   "source": [
    "# Ignoring bias for classification problems\n",
    "\n",
    "This notebook is part of a blog series where I investigate bias in AI.\n",
    "\n",
    "1. [Introducing the IgnoringEstimator](https://github.com/SjoerdCor/fairness/blob/main/blog/1.IntroducingTheIgnoringEstimator.ipynb) introduced measures of fairness and showed how naive approaches do not solve them, and on the other hand shows how easily the IgnoringEstimator is implemented and solves them well\n",
    "1. [Dealing with more complex biases](https://github.com/SjoerdCor/fairness/blob/main/blog/2.DealingWithMoreComplexBiases.ipynb) showed how common complex biases are: non-linear, correlated with other attributes and for continuous features, and showed how easy it is to mitigate the disparate treatment with the `IgnoringBiasEstimator`. I also showed how little attention there seems to be for this problem in existing approaches.\n",
    "1. [Ignoring bias for cassification poblems](https://github.com/SjoerdCor/fairness/blob/main/blog/3.IgnoringBiasForClassificationProblems.ipynb) finally shows how to use the Ignoring Estimator for the classic classification problems - since these are more prolific, we can also compare against a wide variety of existing approaches and see the `IgnoringBiasEstimator` does equally well or better both in terms of bias mitigation and accuracy.\n",
    "\n"
   ]
  },
  {
   "cell_type": "markdown",
   "metadata": {},
   "source": [
    "In this imnstallment, I will use the IgnoringBiasClassifier, which eliminates Disparate Treatment for classification problems. Additionally, I will apply a wide variety of other bias mitigation strategies to make a comprehensive comparison, and show that the IgnoringBias does equally well or better both in terms of bias mitigation and accuracy.\n",
    "\n",
    "## Creating the dataset\n",
    "For the last time in this blog, we stick to the employee situation. Image the company now sets out to predict who should be promoted, based on skills. This should only depend on SocialSkills and Education, but in the real world also depends quadratically on age.\n",
    "\n",
    "<img src=\"./figures/DGP_classification.PNG\" title=\"The data generating process for salary for an imaginary company with biases in employee salaries\"/>"
   ]
  },
  {
   "cell_type": "code",
   "execution_count": 2,
   "metadata": {},
   "outputs": [],
   "source": [
    "def generate_employees_age(size=2500):\n",
    "    X = (pd.DataFrame({'Age': 25 + 40 * np.random.rand(size),\n",
    "                       'Education': 4 + 16 * np.random.rand(size),\n",
    "                       'SocialSkills': np.random.rand(size)\n",
    "                      }\n",
    "                     )\n",
    "        )\n",
    "    return X\n",
    "\n",
    "def eligibility_to_promotion(e):\n",
    "    ''' Real numer -> 0/1 based on binomial distribution via sigmoid'''\n",
    "    prob = scipy.special.expit(e)  # Use logistic function to map real number to probability in range [0, 1]\n",
    "    return np.random.binomial(1, prob) # Turn into yes/no\n",
    "\n",
    "def add_promotion(df):\n",
    "    weights = {'Age': 0,\n",
    "               'Education': 0.02,\n",
    "               'SocialSkills': 0.1\n",
    "              }\n",
    "    error = np.random.normal(-2, 0.2, size=len(df))\n",
    "    df = df.assign(PromotionEligibilitySkill = lambda df: df.mul(weights).sum('columns').add(error),\n",
    "                   PromotionEligibilityTrue = lambda df: (df['PromotionEligibilitySkill']\n",
    "                                                          .add(utils.generate_bias(df['Age'], effect_size=-0.4, power=2))\n",
    "                                                         ),\n",
    "                   PromotionSkill = lambda df: df['PromotionEligibilitySkill'].apply(eligibility_to_promotion),\n",
    "                   PromotionTrue = lambda df: df['PromotionEligibilityTrue'].apply(eligibility_to_promotion),\n",
    "                  )\n",
    "    return df\n",
    "\n",
    "df = generate_employees_age(25000).pipe(add_promotion)\n",
    "PROTECTED_ATTRIBUTE = ['Age']"
   ]
  },
  {
   "cell_type": "code",
   "execution_count": 3,
   "metadata": {},
   "outputs": [
    {
     "data": {
      "text/html": [
       "<style  type=\"text/css\" >\n",
       "</style><table id=\"T_90491_\" ><thead>    <tr>        <th class=\"blank level0\" ></th>        <th class=\"col_heading level0 col0\" >Age</th>        <th class=\"col_heading level0 col1\" >Education</th>        <th class=\"col_heading level0 col2\" >SocialSkills</th>        <th class=\"col_heading level0 col3\" >PromotionEligibilitySkill</th>        <th class=\"col_heading level0 col4\" >PromotionEligibilityTrue</th>        <th class=\"col_heading level0 col5\" >PromotionSkill</th>        <th class=\"col_heading level0 col6\" >PromotionTrue</th>    </tr></thead><tbody>\n",
       "                <tr>\n",
       "                        <th id=\"T_90491_level0_row0\" class=\"row_heading level0 row0\" >6868</th>\n",
       "                        <td id=\"T_90491_row0_col0\" class=\"data row0 col0\" >48.12</td>\n",
       "                        <td id=\"T_90491_row0_col1\" class=\"data row0 col1\" >5.41</td>\n",
       "                        <td id=\"T_90491_row0_col2\" class=\"data row0 col2\" >0.01</td>\n",
       "                        <td id=\"T_90491_row0_col3\" class=\"data row0 col3\" >-1.93</td>\n",
       "                        <td id=\"T_90491_row0_col4\" class=\"data row0 col4\" >-1.52</td>\n",
       "                        <td id=\"T_90491_row0_col5\" class=\"data row0 col5\" >1</td>\n",
       "                        <td id=\"T_90491_row0_col6\" class=\"data row0 col6\" >0</td>\n",
       "            </tr>\n",
       "            <tr>\n",
       "                        <th id=\"T_90491_level0_row1\" class=\"row_heading level0 row1\" >24016</th>\n",
       "                        <td id=\"T_90491_row1_col0\" class=\"data row1 col0\" >32.33</td>\n",
       "                        <td id=\"T_90491_row1_col1\" class=\"data row1 col1\" >16.42</td>\n",
       "                        <td id=\"T_90491_row1_col2\" class=\"data row1 col2\" >0.32</td>\n",
       "                        <td id=\"T_90491_row1_col3\" class=\"data row1 col3\" >-1.92</td>\n",
       "                        <td id=\"T_90491_row1_col4\" class=\"data row1 col4\" >-2.02</td>\n",
       "                        <td id=\"T_90491_row1_col5\" class=\"data row1 col5\" >1</td>\n",
       "                        <td id=\"T_90491_row1_col6\" class=\"data row1 col6\" >0</td>\n",
       "            </tr>\n",
       "            <tr>\n",
       "                        <th id=\"T_90491_level0_row2\" class=\"row_heading level0 row2\" >9668</th>\n",
       "                        <td id=\"T_90491_row2_col0\" class=\"data row2 col0\" >53.25</td>\n",
       "                        <td id=\"T_90491_row2_col1\" class=\"data row2 col1\" >13.57</td>\n",
       "                        <td id=\"T_90491_row2_col2\" class=\"data row2 col2\" >0.90</td>\n",
       "                        <td id=\"T_90491_row2_col3\" class=\"data row2 col3\" >-1.85</td>\n",
       "                        <td id=\"T_90491_row2_col4\" class=\"data row2 col4\" >-1.63</td>\n",
       "                        <td id=\"T_90491_row2_col5\" class=\"data row2 col5\" >0</td>\n",
       "                        <td id=\"T_90491_row2_col6\" class=\"data row2 col6\" >0</td>\n",
       "            </tr>\n",
       "            <tr>\n",
       "                        <th id=\"T_90491_level0_row3\" class=\"row_heading level0 row3\" >13640</th>\n",
       "                        <td id=\"T_90491_row3_col0\" class=\"data row3 col0\" >45.51</td>\n",
       "                        <td id=\"T_90491_row3_col1\" class=\"data row3 col1\" >7.79</td>\n",
       "                        <td id=\"T_90491_row3_col2\" class=\"data row3 col2\" >0.61</td>\n",
       "                        <td id=\"T_90491_row3_col3\" class=\"data row3 col3\" >-1.65</td>\n",
       "                        <td id=\"T_90491_row3_col4\" class=\"data row3 col4\" >-1.21</td>\n",
       "                        <td id=\"T_90491_row3_col5\" class=\"data row3 col5\" >0</td>\n",
       "                        <td id=\"T_90491_row3_col6\" class=\"data row3 col6\" >0</td>\n",
       "            </tr>\n",
       "            <tr>\n",
       "                        <th id=\"T_90491_level0_row4\" class=\"row_heading level0 row4\" >14018</th>\n",
       "                        <td id=\"T_90491_row4_col0\" class=\"data row4 col0\" >63.62</td>\n",
       "                        <td id=\"T_90491_row4_col1\" class=\"data row4 col1\" >15.83</td>\n",
       "                        <td id=\"T_90491_row4_col2\" class=\"data row4 col2\" >0.75</td>\n",
       "                        <td id=\"T_90491_row4_col3\" class=\"data row4 col3\" >-1.20</td>\n",
       "                        <td id=\"T_90491_row4_col4\" class=\"data row4 col4\" >-1.91</td>\n",
       "                        <td id=\"T_90491_row4_col5\" class=\"data row4 col5\" >0</td>\n",
       "                        <td id=\"T_90491_row4_col6\" class=\"data row4 col6\" >1</td>\n",
       "            </tr>\n",
       "            <tr>\n",
       "                        <th id=\"T_90491_level0_row5\" class=\"row_heading level0 row5\" >7488</th>\n",
       "                        <td id=\"T_90491_row5_col0\" class=\"data row5 col0\" >48.97</td>\n",
       "                        <td id=\"T_90491_row5_col1\" class=\"data row5 col1\" >5.16</td>\n",
       "                        <td id=\"T_90491_row5_col2\" class=\"data row5 col2\" >0.47</td>\n",
       "                        <td id=\"T_90491_row5_col3\" class=\"data row5 col3\" >-1.80</td>\n",
       "                        <td id=\"T_90491_row5_col4\" class=\"data row5 col4\" >-1.41</td>\n",
       "                        <td id=\"T_90491_row5_col5\" class=\"data row5 col5\" >0</td>\n",
       "                        <td id=\"T_90491_row5_col6\" class=\"data row5 col6\" >1</td>\n",
       "            </tr>\n",
       "            <tr>\n",
       "                        <th id=\"T_90491_level0_row6\" class=\"row_heading level0 row6\" >5804</th>\n",
       "                        <td id=\"T_90491_row6_col0\" class=\"data row6 col0\" >40.13</td>\n",
       "                        <td id=\"T_90491_row6_col1\" class=\"data row6 col1\" >18.94</td>\n",
       "                        <td id=\"T_90491_row6_col2\" class=\"data row6 col2\" >0.21</td>\n",
       "                        <td id=\"T_90491_row6_col3\" class=\"data row6 col3\" >-1.52</td>\n",
       "                        <td id=\"T_90491_row6_col4\" class=\"data row6 col4\" >-1.16</td>\n",
       "                        <td id=\"T_90491_row6_col5\" class=\"data row6 col5\" >0</td>\n",
       "                        <td id=\"T_90491_row6_col6\" class=\"data row6 col6\" >1</td>\n",
       "            </tr>\n",
       "            <tr>\n",
       "                        <th id=\"T_90491_level0_row7\" class=\"row_heading level0 row7\" >12909</th>\n",
       "                        <td id=\"T_90491_row7_col0\" class=\"data row7 col0\" >60.60</td>\n",
       "                        <td id=\"T_90491_row7_col1\" class=\"data row7 col1\" >7.33</td>\n",
       "                        <td id=\"T_90491_row7_col2\" class=\"data row7 col2\" >0.46</td>\n",
       "                        <td id=\"T_90491_row7_col3\" class=\"data row7 col3\" >-1.92</td>\n",
       "                        <td id=\"T_90491_row7_col4\" class=\"data row7 col4\" >-2.28</td>\n",
       "                        <td id=\"T_90491_row7_col5\" class=\"data row7 col5\" >0</td>\n",
       "                        <td id=\"T_90491_row7_col6\" class=\"data row7 col6\" >0</td>\n",
       "            </tr>\n",
       "            <tr>\n",
       "                        <th id=\"T_90491_level0_row8\" class=\"row_heading level0 row8\" >3386</th>\n",
       "                        <td id=\"T_90491_row8_col0\" class=\"data row8 col0\" >34.74</td>\n",
       "                        <td id=\"T_90491_row8_col1\" class=\"data row8 col1\" >15.03</td>\n",
       "                        <td id=\"T_90491_row8_col2\" class=\"data row8 col2\" >0.97</td>\n",
       "                        <td id=\"T_90491_row8_col3\" class=\"data row8 col3\" >-1.70</td>\n",
       "                        <td id=\"T_90491_row8_col4\" class=\"data row8 col4\" >-1.61</td>\n",
       "                        <td id=\"T_90491_row8_col5\" class=\"data row8 col5\" >0</td>\n",
       "                        <td id=\"T_90491_row8_col6\" class=\"data row8 col6\" >0</td>\n",
       "            </tr>\n",
       "            <tr>\n",
       "                        <th id=\"T_90491_level0_row9\" class=\"row_heading level0 row9\" >9567</th>\n",
       "                        <td id=\"T_90491_row9_col0\" class=\"data row9 col0\" >60.64</td>\n",
       "                        <td id=\"T_90491_row9_col1\" class=\"data row9 col1\" >14.87</td>\n",
       "                        <td id=\"T_90491_row9_col2\" class=\"data row9 col2\" >0.99</td>\n",
       "                        <td id=\"T_90491_row9_col3\" class=\"data row9 col3\" >-1.32</td>\n",
       "                        <td id=\"T_90491_row9_col4\" class=\"data row9 col4\" >-1.69</td>\n",
       "                        <td id=\"T_90491_row9_col5\" class=\"data row9 col5\" >1</td>\n",
       "                        <td id=\"T_90491_row9_col6\" class=\"data row9 col6\" >0</td>\n",
       "            </tr>\n",
       "    </tbody></table>"
      ],
      "text/plain": [
       "<pandas.io.formats.style.Styler at 0x1e387672dc0>"
      ]
     },
     "metadata": {},
     "output_type": "display_data"
    }
   ],
   "source": [
    "utils.display_df(df)"
   ]
  },
  {
   "cell_type": "code",
   "execution_count": 4,
   "metadata": {},
   "outputs": [],
   "source": [
    "(X_train, X_test,\n",
    " y_train, y_test,\n",
    " y_skill_train, y_skill_test,\n",
    " promotion_prob_skill_train, promotion_prob_skill_test) = sklearn.model_selection.train_test_split(df.filter(['Age', 'Education', 'SocialSkills', 'Experience']),\n",
    "                                                                                                   df['PromotionTrue'],\n",
    "                                                                                                   df['PromotionSkill'],\n",
    "                                                                                                   df['PromotionEligibilitySkill'],\n",
    "                                                                                                   random_state=42\n",
    "                                                                                                    )"
   ]
  },
  {
   "cell_type": "code",
   "execution_count": 5,
   "metadata": {},
   "outputs": [
    {
     "data": {
      "image/png": "[encoded data removed]",
      "text/plain": [
       "<Figure size 432x288 with 1 Axes>"
      ]
     },
     "metadata": {
      "needs_background": "light"
     },
     "output_type": "display_data"
    }
   ],
   "source": [
    "def plot_promotion_prob_by_age(predictions, age, age_group=5, ax=None, **kwargs):\n",
    "    if ax is None:\n",
    "        fig, ax = plt.subplots()\n",
    "    age_grouped = age // age_group * age_group + age_group/2\n",
    "    result = predictions.groupby(age_grouped).agg(['mean', 'sem'])\n",
    "    ax = (result.plot(y='mean', yerr='sem', ax=ax, label=predictions.name, **kwargs))\n",
    "    return ax\n",
    "    \n",
    "ax = plot_promotion_prob_by_age(df['PromotionSkill'], df['Age'])\n",
    "plot_promotion_prob_by_age(df['PromotionTrue'], df['Age'], ax=ax)\n",
    "plt.show()"
   ]
  },
  {
   "cell_type": "markdown",
   "metadata": {},
   "source": [
    "Indeed, the promotions based on skills are independent of age, but in the real world middle-aged people have much higher probability of a promotion"
   ]
  },
  {
   "cell_type": "markdown",
   "metadata": {},
   "source": [
    "## Calculating the predictions\n",
    "We apply a variety of bias mitigation strategies that work with continuos features:\n",
    "* No bias mitigation strategy, as a baseline\n",
    "* Preprocessing: InformationFilter, as implemented by `scikit-lego`\n",
    "* Preprocessing: Reweighing, as implemented by `aif360`\n",
    "* Inprocessing: AdversarialDebiasing, as implemented by `aif360`\n",
    "* Postprocessing: CalibratedOddsEqualizer, as implemented by `aif360`\n",
    "* Inprocessing: IgnoringBiasClassifier, as defined within this repository\n",
    "\n"
   ]
  },
  {
   "cell_type": "code",
   "execution_count": 6,
   "metadata": {},
   "outputs": [],
   "source": [
    "predictions = {}"
   ]
  },
  {
   "cell_type": "code",
   "execution_count": 7,
   "metadata": {},
   "outputs": [],
   "source": [
    "def add_predictions_to_results(clf, name, predictions=predictions,\n",
    "                               X_train=X_train, y_train=y_train, X_test=X_test,\n",
    "                               protected_attribute=None):\n",
    "    \"\"\"\n",
    "    \n",
    "    \"\"\"\n",
    "    \n",
    "    if protected_attribute: \n",
    "        X_train = X_train.set_index(protected_attribute, append=True)\n",
    "        X_test = X_test.set_index(protected_attribute, append=True)\n",
    "        \n",
    "    clf.fit(X_train, y_train)\n",
    "    y_pred = utils.predict_series(clf, X=X_test, method='predict_proba')\n",
    "    \n",
    "    if protected_attribute:\n",
    "        y_pred = y_pred.reset_index(protected_attribute, drop=True)\n",
    "    predictions[name] = y_pred"
   ]
  },
  {
   "cell_type": "code",
   "execution_count": 8,
   "metadata": {},
   "outputs": [],
   "source": [
    "rf_kwargs = {'min_samples_leaf': 2, 'random_state': 42}"
   ]
  },
  {
   "cell_type": "markdown",
   "metadata": {},
   "source": [
    "### No bias mitigation\n",
    "As a baseline, let's first calculate the naive approach of fitting a model with the protected attribute as a feature, applying no bias mitigation"
   ]
  },
  {
   "cell_type": "code",
   "execution_count": 9,
   "metadata": {},
   "outputs": [],
   "source": [
    "rf = RandomForestClassifier(**rf_kwargs)\n",
    "add_predictions_to_results(rf, 'NoBiasMitigation')"
   ]
  },
  {
   "cell_type": "markdown",
   "metadata": {},
   "source": [
    "### scikit-lego preprocessing: Information Filter\n",
    "Secondly, let's apply the Information Filter"
   ]
  },
  {
   "cell_type": "code",
   "execution_count": 10,
   "metadata": {},
   "outputs": [],
   "source": [
    "clf_information_filter = make_pipeline(InformationFilter(PROTECTED_ATTRIBUTE),\n",
    "                                       RandomForestClassifier(**rf_kwargs),\n",
    "                                      )\n",
    "add_predictions_to_results(clf_information_filter, 'InformationFilter')"
   ]
  },
  {
   "cell_type": "markdown",
   "metadata": {},
   "source": [
    "### aif360 Preprocessing: reweighing"
   ]
  },
  {
   "cell_type": "code",
   "execution_count": 11,
   "metadata": {},
   "outputs": [
    {
     "name": "stdout",
     "output_type": "stream",
     "text": [
      "Wall time: 41.3 s\n"
     ]
    }
   ],
   "source": [
    "%%time\n",
    "clf_reweighing = ReweighingMeta(RandomForestClassifier(**rf_kwargs), reweigher=Reweighing(PROTECTED_ATTRIBUTE))\n",
    "add_predictions_to_results(clf_reweighing, 'Reweighing', protected_attribute=PROTECTED_ATTRIBUTE)"
   ]
  },
  {
   "cell_type": "markdown",
   "metadata": {},
   "source": [
    "### aif360 Inprocessing: Adversarial Debiasing"
   ]
  },
  {
   "cell_type": "code",
   "execution_count": null,
   "metadata": {},
   "outputs": [],
   "source": [
    "%%time\n",
    "clf_adv_deb = AdversarialDebiasing(prot_attr=PROTECTED_ATTRIBUTE, adversary_loss_weight=None, random_state=42, classifier_num_hidden_units=64)\n",
    "add_predictions_to_results(clf_adv_deb, 'AdversarialDebiasing', protected_attribute=PROTECTED_ATTRIBUTE)"
   ]
  },
  {
   "cell_type": "markdown",
   "metadata": {},
   "source": [
    "### aif360 Postprocessing: CalibratedOddsEqualizer"
   ]
  },
  {
   "cell_type": "code",
   "execution_count": null,
   "metadata": {},
   "outputs": [],
   "source": [
    "def add_age_index(series, age_series, dummify=None):\n",
    "    '''\n",
    "    dummify: tuple of low and high to dummify; None if you do not want to dummify\n",
    "    ''' \n",
    "    \n",
    "    res = pd.concat([series, age_series], axis='columns')\n",
    "    if dummify:\n",
    "        res['Age'] = res['Age'].between(*dummify).astype(int)\n",
    "    res = res.set_index('Age', append=True).squeeze()\n",
    "    return res"
   ]
  },
  {
   "cell_type": "code",
   "execution_count": null,
   "metadata": {},
   "outputs": [],
   "source": [
    "advantaged_age_group = (32.5, 57.5)\n",
    "y_train_with_age = add_age_index(y_train, X_train['Age'], advantaged_age_group)\n",
    "y_test_with_age = add_age_index(y_test, X_test['Age'], advantaged_age_group)"
   ]
  },
  {
   "cell_type": "code",
   "execution_count": null,
   "metadata": {},
   "outputs": [],
   "source": [
    "clf_postproc = PostProcessingMeta(estimator=RandomForestClassifier(**rf_kwargs),\n",
    "                                  postprocessor=CalibratedEqualizedOdds(PROTECTED_ATTRIBUTE, random_state=42),\n",
    "                                  random_state=42)\n",
    "\n",
    "X_test_grouped_age = X_test.assign(Age = lambda df: df['Age'].between(*advantaged_age_group).astype(int))  # CalibratedOddsEqualizer requires exactly two groups\n",
    "add_predictions_to_results(clf_postproc, 'CalibratedOddsEqualizer', y_train=y_train_with_age, protected_attribute=PROTECTED_ATTRIBUTE, X_test=X_test_grouped_age)"
   ]
  },
  {
   "cell_type": "markdown",
   "metadata": {},
   "source": [
    "### Ignoring Bias during prediction again solves the problem"
   ]
  },
  {
   "cell_type": "code",
   "execution_count": null,
   "metadata": {},
   "outputs": [],
   "source": [
    "ib = fairestimator.IgnoringBiasClassifier(RandomForestClassifier(random_state=42, min_samples_leaf=2),\n",
    "                                          ignored_cols=[0], # Ignore the zeroeth column at prediction time -> Age\n",
    "                                          correction_strategy='Logitadditive')\n",
    "\n",
    "add_predictions_to_results(ib, 'IgnoringBias')"
   ]
  },
  {
   "cell_type": "code",
   "execution_count": null,
   "metadata": {},
   "outputs": [],
   "source": [
    "df_predictions = pd.DataFrame(predictions)\n",
    "df_bias = df_predictions.sub(promotion_prob_skill_test, axis=0)"
   ]
  },
  {
   "cell_type": "markdown",
   "metadata": {},
   "source": [
    "## Evaluating the different options\n",
    "### Measuring fairness\n",
    "We have applied six bias mitigation strategies, and now we can finally visualize the results. We are looking for two twhings:\n",
    "1. The probability of a promotion should be unbiased, i.e. it should equal for every age group (in this toy dataset skills are independent of age). Just as in [Blog 2](https://github.com/SjoerdCor/fairness/blob/main/blog/2.DealingWithMoreComplexBiases.ipynb), we will use the Mutual Information as a fairness measure.\n",
    "1. The probability of promotion should be well-calibrated, i.e. the average predicted promotion probability should match the average true promotion probability\n",
    "\n",
    "In the plot, we see three groups:\n",
    "\n",
    "* The strongly biased strategy, matching the grey dashed line: the true world biased promotion probabilities\n",
    "  * Applying No Bias Mitigatoin (blue line) propagates the bias\n",
    "* The largely unbiased, but badly calibrated strategies\n",
    "  * AdversialDebiasing (red line)does not exhibit a large bias, but gives everybody a way too low probability of promotion. Perhaps we could improve this with more tweaking, but since it is already very slow and other strategies are succesful out of the box, I decided not to spend more time on this\n",
    "  * Reweighing (green) also is a largely flat line, but also is generally too low\n",
    "* The (mostly) successful strategies, closely following the black dahsed line: the promotion probabilities based purely on skill.\n",
    "  * InformationFilter (in orange) is well-calibrated, but does show some bias against older employees\n",
    "  * Postprocessing with the CalibratedOddsEqualizer (purple) does very well, which is somewhat surprising given that we had to discretize Age. However, I fear it will not scale well to more complex, continuous biases where we do not know well who is (dis)advantaged beforehand.\n",
    "  * IgnoringBias does very well, both on removing bias and calibration"
   ]
  },
  {
   "cell_type": "code",
   "execution_count": null,
   "metadata": {},
   "outputs": [],
   "source": [
    "ax = plot_promotion_prob_by_age(y_skill_test, X_test['Age'], figsize=(16, 12), ls='--', c='k')\n",
    "plot_promotion_prob_by_age(y_test, X_test['Age'], ax=ax, ls='--', c='grey')\n",
    "\n",
    "for col in df_predictions:\n",
    "    plot_promotion_prob_by_age(df_predictions[col], X_test['Age'], ax=ax)\n",
    "\n",
    "ax.set_ylabel('')\n",
    "plt.show()"
   ]
  },
  {
   "cell_type": "code",
   "execution_count": null,
   "metadata": {},
   "outputs": [],
   "source": [
    "%%time \n",
    "df_disp_treat = (utils.bootstrap(utils.calculate_mutual_information, pd.concat([df_bias, X_test['Age']], axis='columns'), n_neighbors=100)\n",
    "                 .pipe(utils.calculate_bootstrap_confidence_interval)\n",
    "                )"
   ]
  },
  {
   "cell_type": "markdown",
   "metadata": {},
   "source": [
    "Finally, we calculate the disparate treatment as the mutual information between the age and the bias , which is the difference between the predicted probability of promtion and the skills-based probability of promotion. Indeed, 4 strategies are (mostly) sucessful in removing the bias, the Information Filter is slgihtly less sucessfull and the IgnoringBiasEstimator, again, has the best performance, both in terms of accuracy and bias mitigation, and arguably in ease-of-use."
   ]
  },
  {
   "cell_type": "code",
   "execution_count": null,
   "metadata": {},
   "outputs": [],
   "source": [
    "def plot_biases(biases: dict, **kwargs):\n",
    "    \"\"\"\n",
    "    Plot fairness metric with uncertainty for multiple mitigation strategies.\n",
    "\n",
    "    biases: fairness metrics, dict of dicts structured \n",
    "        {\"name\": {\"diff_mean\": fairness metric, \"diff_sem\": uncertainty fairness metric}}\n",
    "    **kwargs are passed to the DataFrame plot method\n",
    "    \"\"\"\n",
    "    fig, ax = plt.subplots()\n",
    "    df = pd.DataFrame(biases).transpose()\n",
    "    p = ax.barh(y=range(len(df)), width=df[0.5], xerr=(df['Uncertainty_lower'], df['Uncertainty_upper']))\n",
    "    plt.yticks(range(len(df)), df.index)\n",
    "    ax.invert_yaxis()\n",
    "    ax.axvline(0, c='k', ls='--')\n",
    "    ax.bar_label(p, label_type='edge', fmt='%.3f')\n",
    "\n",
    "    ax.set_ylabel('FairnessMethod')\n",
    "    return ax\n",
    "\n",
    "plot_biases(df_disp_treat)"
   ]
  },
  {
   "cell_type": "markdown",
   "metadata": {},
   "source": [
    "### Measuring accuracy\n",
    "As a measure of the accuracy of the methods, we use [log loss](https://scikit-learn.org/stable/modules/generated/sklearn.metrics.log_loss.html), which checks both calibration and accuracy.\n",
    "\n",
    "Importantly, IgnoringBiasEstimator has both the best accuracy and the least disparate treatment. Additionally, it is clear that AdversarialDebiasing does poorly, due to its horrible calibration. "
   ]
  },
  {
   "cell_type": "code",
   "execution_count": null,
   "metadata": {},
   "outputs": [],
   "source": [
    "accs = df_predictions.apply(lambda col: sklearn.metrics.log_loss(y_test, col))"
   ]
  },
  {
   "cell_type": "code",
   "execution_count": null,
   "metadata": {},
   "outputs": [],
   "source": [
    "ax = accs.plot(kind='barh')\n",
    "plt.bar_label(ax.containers[0], fmt='%.3f', c='white', label_type='center')\n",
    "ax.invert_yaxis()\n",
    "plt.ylabel('Bias mitigation strategy')\n",
    "plt.xlabel('Logloss (lower is better)')\n",
    "plt.show()"
   ]
  },
  {
   "cell_type": "markdown",
   "metadata": {},
   "source": [
    "## Conclusion"
   ]
  },
  {
   "cell_type": "markdown",
   "metadata": {},
   "source": [
    "In this installment, we saw that for classification problems a wide variety of bias mitigation strategies exist, and that the IgnoringBiasClassifier was best in class both in terms of bias mitigation and accuracy. \n",
    "\n",
    "I truly hope the IgnoringBiasEstimator will help mitigate biases in Data Science."
   ]
  }
 ],
 "metadata": {
  "kernelspec": {
   "display_name": "Python [conda env:fairness3]",
   "language": "python",
   "name": "conda-env-fairness3-py"
  },
  "language_info": {
   "codemirror_mode": {
    "name": "ipython",
    "version": 3
   },
   "file_extension": ".py",
   "mimetype": "text/x-python",
   "name": "python",
   "nbconvert_exporter": "python",
   "pygments_lexer": "ipython3",
   "version": "3.9.4"
  }
 },
 "nbformat": 4,
 "nbformat_minor": 5
}
