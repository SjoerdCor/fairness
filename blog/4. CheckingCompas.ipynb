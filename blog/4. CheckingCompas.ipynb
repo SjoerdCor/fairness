{
 "cells": [
  {
   "cell_type": "code",
   "execution_count": 111,
   "metadata": {},
   "outputs": [],
   "source": [
    "import math\n",
    "import sys\n",
    "\n",
    "import pandas as pd\n",
    "from sklearn.model_selection import train_test_split\n",
    "from sklearn.ensemble import RandomForestClassifier\n",
    "from sklearn.pipeline import Pipeline\n",
    "from sklearn.compose import ColumnTransformer\n",
    "from sklearn.preprocessing import OneHotEncoder\n",
    "from sklearn.metrics import ConfusionMatrixDisplay\n",
    "from matplotlib import pyplot as plt\n",
    "\n",
    "sys.path.append('..\\..')\n",
    "from fairness import fairestimator"
   ]
  },
  {
   "cell_type": "code",
   "execution_count": 163,
   "metadata": {},
   "outputs": [],
   "source": [
    "x_cols = ['sex', 'age', 'race', 'decile_score']\n",
    "y_col = ['is_recid']\n",
    "# data taken from https://github.com/propublica/compas-analysis/blob/master/compas-scores-two-years.csv\n",
    "df = pd.read_csv(r'data\\compas-scores-two-years.csv', usecols=x_cols + y_col)\n",
    "\n",
    "X_train, X_test, y_train, y_test = train_test_split(df[x_cols], df[y_col].squeeze(), random_state=42)"
   ]
  },
  {
   "cell_type": "code",
   "execution_count": 146,
   "metadata": {},
   "outputs": [],
   "source": [
    "clf = RandomForestClassifier(min_samples_leaf=100, max_depth=4)"
   ]
  },
  {
   "cell_type": "code",
   "execution_count": 147,
   "metadata": {},
   "outputs": [],
   "source": [
    "pipe_unaware = Pipeline([('make_unaware', ColumnTransformer([('make_unaware', \"passthrough\", ['decile_score'])])),\n",
    "                         ('clf', clf)])\n",
    "pipe_unaware.fit(X_train, y_train)\n",
    "y_pred_unaware = pd.Series(pipe_unaware.predict(X_train), index=X_train.index, name='PredUnaware')"
   ]
  },
  {
   "cell_type": "code",
   "execution_count": 148,
   "metadata": {},
   "outputs": [],
   "source": [
    "pipe_aware = Pipeline([('preprocessing', ColumnTransformer([('onehoteencoder', OneHotEncoder(drop='first', sparse_output=False), ['sex', 'race'])], remainder='passthrough')),\n",
    "                         ('clf', clf)])\n",
    "pipe_aware.fit(X_train, y_train)\n",
    "y_pred_aware = pd.Series(pipe_aware.predict(X_train), index=X_train.index, name='PredAware')\n"
   ]
  },
  {
   "cell_type": "code",
   "execution_count": 149,
   "metadata": {},
   "outputs": [],
   "source": [
    "pipe_fair = Pipeline([('preprocessing', ColumnTransformer([('onehoteencoder', OneHotEncoder(drop='first', sparse_output=False), ['sex', 'race'])], remainder='passthrough')),\n",
    "                         ('clf', fairestimator.IgnoringBiasClassifier(clf, range(6), correction_strategy='Logitadditive'))])\n",
    "pipe_fair.set_output(transform=\"pandas\")\n",
    "pipe_fair.fit(X_train, y_train)\n",
    "y_pred_fair = pd.Series(pipe_fair.predict(X_train), index=X_train.index, name='PredFair')\n"
   ]
  },
  {
   "cell_type": "code",
   "execution_count": 150,
   "metadata": {},
   "outputs": [
    {
     "data": {
      "text/html": [
       "<div>\n",
       "<style scoped>\n",
       "    .dataframe tbody tr th:only-of-type {\n",
       "        vertical-align: middle;\n",
       "    }\n",
       "\n",
       "    .dataframe tbody tr th {\n",
       "        vertical-align: top;\n",
       "    }\n",
       "\n",
       "    .dataframe thead th {\n",
       "        text-align: right;\n",
       "    }\n",
       "</style>\n",
       "<table border=\"1\" class=\"dataframe\">\n",
       "  <thead>\n",
       "    <tr style=\"text-align: right;\">\n",
       "      <th></th>\n",
       "      <th>sex</th>\n",
       "      <th>age</th>\n",
       "      <th>race</th>\n",
       "      <th>decile_score</th>\n",
       "      <th>PredFair</th>\n",
       "      <th>PredAware</th>\n",
       "      <th>PredUnaware</th>\n",
       "      <th>is_recid</th>\n",
       "    </tr>\n",
       "  </thead>\n",
       "  <tbody>\n",
       "    <tr>\n",
       "      <th>4697</th>\n",
       "      <td>Male</td>\n",
       "      <td>35</td>\n",
       "      <td>Caucasian</td>\n",
       "      <td>1</td>\n",
       "      <td>0</td>\n",
       "      <td>0</td>\n",
       "      <td>0</td>\n",
       "      <td>0</td>\n",
       "    </tr>\n",
       "    <tr>\n",
       "      <th>5884</th>\n",
       "      <td>Male</td>\n",
       "      <td>69</td>\n",
       "      <td>Caucasian</td>\n",
       "      <td>1</td>\n",
       "      <td>0</td>\n",
       "      <td>0</td>\n",
       "      <td>0</td>\n",
       "      <td>1</td>\n",
       "    </tr>\n",
       "    <tr>\n",
       "      <th>5035</th>\n",
       "      <td>Male</td>\n",
       "      <td>43</td>\n",
       "      <td>African-American</td>\n",
       "      <td>1</td>\n",
       "      <td>0</td>\n",
       "      <td>0</td>\n",
       "      <td>0</td>\n",
       "      <td>0</td>\n",
       "    </tr>\n",
       "    <tr>\n",
       "      <th>6217</th>\n",
       "      <td>Male</td>\n",
       "      <td>21</td>\n",
       "      <td>Caucasian</td>\n",
       "      <td>4</td>\n",
       "      <td>1</td>\n",
       "      <td>1</td>\n",
       "      <td>0</td>\n",
       "      <td>1</td>\n",
       "    </tr>\n",
       "    <tr>\n",
       "      <th>3428</th>\n",
       "      <td>Male</td>\n",
       "      <td>43</td>\n",
       "      <td>Caucasian</td>\n",
       "      <td>1</td>\n",
       "      <td>0</td>\n",
       "      <td>0</td>\n",
       "      <td>0</td>\n",
       "      <td>0</td>\n",
       "    </tr>\n",
       "    <tr>\n",
       "      <th>...</th>\n",
       "      <td>...</td>\n",
       "      <td>...</td>\n",
       "      <td>...</td>\n",
       "      <td>...</td>\n",
       "      <td>...</td>\n",
       "      <td>...</td>\n",
       "      <td>...</td>\n",
       "      <td>...</td>\n",
       "    </tr>\n",
       "    <tr>\n",
       "      <th>3772</th>\n",
       "      <td>Male</td>\n",
       "      <td>28</td>\n",
       "      <td>African-American</td>\n",
       "      <td>2</td>\n",
       "      <td>0</td>\n",
       "      <td>0</td>\n",
       "      <td>0</td>\n",
       "      <td>0</td>\n",
       "    </tr>\n",
       "    <tr>\n",
       "      <th>5191</th>\n",
       "      <td>Male</td>\n",
       "      <td>30</td>\n",
       "      <td>African-American</td>\n",
       "      <td>8</td>\n",
       "      <td>1</td>\n",
       "      <td>1</td>\n",
       "      <td>1</td>\n",
       "      <td>0</td>\n",
       "    </tr>\n",
       "    <tr>\n",
       "      <th>5226</th>\n",
       "      <td>Female</td>\n",
       "      <td>33</td>\n",
       "      <td>Caucasian</td>\n",
       "      <td>1</td>\n",
       "      <td>0</td>\n",
       "      <td>0</td>\n",
       "      <td>0</td>\n",
       "      <td>0</td>\n",
       "    </tr>\n",
       "    <tr>\n",
       "      <th>5390</th>\n",
       "      <td>Male</td>\n",
       "      <td>27</td>\n",
       "      <td>African-American</td>\n",
       "      <td>3</td>\n",
       "      <td>0</td>\n",
       "      <td>0</td>\n",
       "      <td>0</td>\n",
       "      <td>0</td>\n",
       "    </tr>\n",
       "    <tr>\n",
       "      <th>860</th>\n",
       "      <td>Male</td>\n",
       "      <td>24</td>\n",
       "      <td>African-American</td>\n",
       "      <td>3</td>\n",
       "      <td>0</td>\n",
       "      <td>0</td>\n",
       "      <td>0</td>\n",
       "      <td>1</td>\n",
       "    </tr>\n",
       "  </tbody>\n",
       "</table>\n",
       "<p>5410 rows × 8 columns</p>\n",
       "</div>"
      ],
      "text/plain": [
       "         sex  age              race  decile_score  PredFair  PredAware  \\\n",
       "4697    Male   35         Caucasian             1         0          0   \n",
       "5884    Male   69         Caucasian             1         0          0   \n",
       "5035    Male   43  African-American             1         0          0   \n",
       "6217    Male   21         Caucasian             4         1          1   \n",
       "3428    Male   43         Caucasian             1         0          0   \n",
       "...      ...  ...               ...           ...       ...        ...   \n",
       "3772    Male   28  African-American             2         0          0   \n",
       "5191    Male   30  African-American             8         1          1   \n",
       "5226  Female   33         Caucasian             1         0          0   \n",
       "5390    Male   27  African-American             3         0          0   \n",
       "860     Male   24  African-American             3         0          0   \n",
       "\n",
       "      PredUnaware  is_recid  \n",
       "4697            0         0  \n",
       "5884            0         1  \n",
       "5035            0         0  \n",
       "6217            0         1  \n",
       "3428            0         0  \n",
       "...           ...       ...  \n",
       "3772            0         0  \n",
       "5191            1         0  \n",
       "5226            0         0  \n",
       "5390            0         0  \n",
       "860             0         1  \n",
       "\n",
       "[5410 rows x 8 columns]"
      ]
     },
     "execution_count": 150,
     "metadata": {},
     "output_type": "execute_result"
    }
   ],
   "source": [
    "outcomes = pd.concat([X_train, y_pred_fair, y_pred_aware, y_pred_unaware, y_train], axis='columns')\n",
    "outcomes"
   ]
  },
  {
   "cell_type": "code",
   "execution_count": 151,
   "metadata": {},
   "outputs": [
    {
     "data": {
      "image/png": "[encoded data removed]",
      "text/plain": [
       "<Figure size 640x480 with 3 Axes>"
      ]
     },
     "metadata": {},
     "output_type": "display_data"
    }
   ],
   "source": [
    "def plot_conf_matrix_per_attribute(df, attribute, col_prediction, col_true='is_recid'):\n",
    "    n_groups = df[attribute].nunique()\n",
    "    fig, axes = plt.subplots(math.ceil(n_groups / 3), 3)\n",
    "    for (groupname, df_subgroup), ax in zip(df.groupby(attribute), axes.flat):\n",
    "        ConfusionMatrixDisplay.from_predictions(df_subgroup[col_true], df_subgroup[col_prediction], normalize='all', values_format='.1%', ax=ax, colorbar=False)\n",
    "        ax.set_title(groupname)\n",
    "    plt.tight_layout()\n",
    "\n",
    "plot_conf_matrix_per_attribute(outcomes, 'sex', 'PredFair')"
   ]
  },
  {
   "cell_type": "code",
   "execution_count": 152,
   "metadata": {},
   "outputs": [
    {
     "data": {
      "image/png": "[encoded data removed]",
      "text/plain": [
       "<Figure size 640x480 with 3 Axes>"
      ]
     },
     "metadata": {},
     "output_type": "display_data"
    }
   ],
   "source": [
    "plot_conf_matrix_per_attribute(outcomes, 'sex', 'PredUnaware')"
   ]
  }
 ],
 "metadata": {
  "kernelspec": {
   "display_name": "fairness",
   "language": "python",
   "name": "python3"
  },
  "language_info": {
   "codemirror_mode": {
    "name": "ipython",
    "version": 3
   },
   "file_extension": ".py",
   "mimetype": "text/x-python",
   "name": "python",
   "nbconvert_exporter": "python",
   "pygments_lexer": "ipython3",
   "version": "3.10.9"
  },
  "orig_nbformat": 4,
  "vscode": {
   "interpreter": {
    "hash": "58ca6046285e82a5a25e8e6de469750c2fadae1e97746294587cbcab557b7939"
   }
  }
 },
 "nbformat": 4,
 "nbformat_minor": 2
}
