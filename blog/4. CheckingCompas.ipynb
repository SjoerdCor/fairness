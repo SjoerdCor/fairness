{
 "cells": [
  {
   "cell_type": "code",
   "execution_count": null,
   "metadata": {},
   "outputs": [],
   "source": [
    "import math\n",
    "import sys\n",
    "import itertools \n",
    "\n",
    "import pandas as pd\n",
    "from sklearn.model_selection import train_test_split\n",
    "from sklearn.ensemble import RandomForestClassifier\n",
    "from sklearn.pipeline import Pipeline\n",
    "from sklearn.compose import ColumnTransformer\n",
    "from sklearn.preprocessing import OneHotEncoder\n",
    "from sklearn.metrics import ConfusionMatrixDisplay\n",
    "from matplotlib import pyplot as plt\n",
    "\n",
    "sys.path.append('..\\..')\n",
    "from fairness import fairestimator"
   ]
  },
  {
   "cell_type": "code",
   "execution_count": null,
   "metadata": {},
   "outputs": [],
   "source": [
    "x_cols = ['sex', 'age', 'race', 'decile_score']\n",
    "y_col = ['is_recid']\n",
    "# data taken from https://github.com/propublica/compas-analysis/blob/master/compas-scores-two-years.csv\n",
    "df = pd.read_csv(r'data\\compas-scores-two-years.csv', usecols=x_cols + y_col)\n",
    "\n",
    "X_train, X_test, y_train, y_test = train_test_split(df[x_cols], df[y_col].squeeze(), random_state=42)"
   ]
  },
  {
   "cell_type": "code",
   "execution_count": null,
   "metadata": {},
   "outputs": [],
   "source": [
    "clf = RandomForestClassifier(min_samples_leaf=100, max_depth=4)"
   ]
  },
  {
   "cell_type": "code",
   "execution_count": null,
   "metadata": {},
   "outputs": [],
   "source": [
    "pipe_unaware = Pipeline([('make_unaware', ColumnTransformer([('make_unaware', \"passthrough\", ['decile_score'])])),\n",
    "                         ('clf', clf)])\n",
    "pipe_unaware.fit(X_train, y_train)\n",
    "y_pred_unaware = pd.Series(pipe_unaware.predict(X_train), index=X_train.index, name='PredUnaware')"
   ]
  },
  {
   "cell_type": "code",
   "execution_count": null,
   "metadata": {},
   "outputs": [],
   "source": [
    "pipe_aware = Pipeline([('preprocessing', ColumnTransformer([('onehoteencoder', OneHotEncoder(drop='first', sparse_output=False), ['sex', 'race'])], remainder='passthrough')),\n",
    "                         ('clf', clf)])\n",
    "pipe_aware.fit(X_train, y_train)\n",
    "y_pred_aware = pd.Series(pipe_aware.predict(X_train), index=X_train.index, name='PredAware')\n"
   ]
  },
  {
   "cell_type": "code",
   "execution_count": null,
   "metadata": {},
   "outputs": [],
   "source": [
    "pipe_fair = Pipeline([('preprocessing', ColumnTransformer([('onehoteencoder', OneHotEncoder(drop='first', sparse_output=False), ['sex', 'race'])], remainder='passthrough')),\n",
    "                         ('clf', fairestimator.IgnoringBiasClassifier(clf, range(6), correction_strategy='Logitadditive'))])\n",
    "pipe_fair.set_output(transform=\"pandas\")\n",
    "pipe_fair.fit(X_train, y_train)\n",
    "y_pred_fair = pd.Series(pipe_fair.predict(X_train), index=X_train.index, name='PredFair')\n"
   ]
  },
  {
   "cell_type": "code",
   "execution_count": null,
   "metadata": {},
   "outputs": [],
   "source": [
    "outcomes = pd.concat([X_train, y_pred_fair, y_pred_aware, y_pred_unaware, y_train], axis='columns')\n",
    "outcomes"
   ]
  },
  {
   "cell_type": "code",
   "execution_count": null,
   "metadata": {},
   "outputs": [],
   "source": [
    "def plot_conf_matrix_per_attribute(df, attribute, col_prediction, col_true='is_recid'):\n",
    "    n_groups = df[attribute].nunique()\n",
    "    fig, axes = plt.subplots(math.ceil(n_groups / 3), 3)\n",
    "    for (groupname, df_subgroup), ax in itertools.zip_longest(df.groupby(attribute), axes.flat, fillvalue=(None, None)):\n",
    "        if groupname is None:\n",
    "            ax.set_axis_off()\n",
    "            continue\n",
    "        ConfusionMatrixDisplay.from_predictions(df_subgroup[col_true], df_subgroup[col_prediction], normalize='all', values_format='.1%', ax=ax, colorbar=False)\n",
    "        ax.set_title(groupname)\n",
    "\n",
    "    plt.tight_layout()\n",
    "\n",
    "plot_conf_matrix_per_attribute(outcomes, 'race', 'PredFair')"
   ]
  },
  {
   "cell_type": "code",
   "execution_count": null,
   "metadata": {},
   "outputs": [],
   "source": [
    "plot_conf_matrix_per_attribute(outcomes, 'sex', 'PredUnaware')"
   ]
  }
 ],
 "metadata": {
  "kernelspec": {
   "display_name": "fairness",
   "language": "python",
   "name": "python3"
  },
  "language_info": {
   "codemirror_mode": {
    "name": "ipython",
    "version": 3
   },
   "file_extension": ".py",
   "mimetype": "text/x-python",
   "name": "python",
   "nbconvert_exporter": "python",
   "pygments_lexer": "ipython3",
   "version": "3.10.9"
  },
  "orig_nbformat": 4,
  "vscode": {
   "interpreter": {
    "hash": "58ca6046285e82a5a25e8e6de469750c2fadae1e97746294587cbcab557b7939"
   }
  }
 },
 "nbformat": 4,
 "nbformat_minor": 2
}
